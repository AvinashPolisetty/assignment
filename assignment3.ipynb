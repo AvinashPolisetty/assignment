{
 "cells": [
  {
   "cell_type": "markdown",
   "id": "f975f8b7",
   "metadata": {},
   "source": [
    "# 1 Write a Python Program to implement your own myreduce() function which works exactly  like Python's built-in function reduce() "
   ]
  },
  {
   "cell_type": "code",
   "execution_count": 7,
   "id": "c2c30ed2",
   "metadata": {},
   "outputs": [],
   "source": [
    "def myreduce(function,values):\n",
    "    result=values[0]\n",
    "    for i in values[1:]:\n",
    "        result=function(result,i)\n",
    "    return result"
   ]
  },
  {
   "cell_type": "code",
   "execution_count": 13,
   "id": "c8ef2a03",
   "metadata": {},
   "outputs": [
    {
     "name": "stdout",
     "output_type": "stream",
     "text": [
      "reduced output: 4266731520\n"
     ]
    }
   ],
   "source": [
    "def function(a,b):\n",
    "    return a*b\n",
    "\n",
    "l=[2,3,4,64,6,2,67,3455]\n",
    "print(f'reduced output: {myreduce(function,l)}')\n"
   ]
  },
  {
   "cell_type": "markdown",
   "id": "2dd20d07",
   "metadata": {},
   "source": [
    "# 2 Write a Python program to implement your own myfilter() function which works exactly  like Python's built-in function filter() "
   ]
  },
  {
   "cell_type": "code",
   "execution_count": 21,
   "id": "0582f5e3",
   "metadata": {},
   "outputs": [],
   "source": [
    "def myfilter(function, vals):\n",
    "    result = list()\n",
    "    for i in vals:\n",
    "        if function(i):\n",
    "            result.append(i)\n",
    "    return result"
   ]
  },
  {
   "cell_type": "code",
   "execution_count": 22,
   "id": "b0317642",
   "metadata": {},
   "outputs": [
    {
     "name": "stdout",
     "output_type": "stream",
     "text": [
      "My Filter Output is: [345]\n"
     ]
    }
   ],
   "source": [
    "def function(x):\n",
    "    if x % 5 == 0:\n",
    "        return True\n",
    "    else:\n",
    "        return False\n",
    "lst = [12, 397, 6, 34, 53,345,6456,234,12,567,56,76]\n",
    "print(f\"My Filter Output is: {myfilter(function, lst)}\")"
   ]
  },
  {
   "cell_type": "markdown",
   "id": "d083e380",
   "metadata": {},
   "source": [
    "# 2. Implement List comprehensions to produce the following lists.  \n",
    "Write List comprehensions to produce the following Lists \n"
   ]
  },
  {
   "cell_type": "code",
   "execution_count": 25,
   "id": "f5545bb2",
   "metadata": {},
   "outputs": [
    {
     "data": {
      "text/plain": [
       "['x', 'xx', 'xxx', 'xxxx', 'y', 'yy', 'yyy', 'yyyy', 'z', 'zz', 'zzz', 'zzzz']"
      ]
     },
     "execution_count": 25,
     "metadata": {},
     "output_type": "execute_result"
    }
   ],
   "source": [
    "l1 = ['x', 'y', 'z']\n",
    "lst1 = [i*j for j in l1 for i in range(1, 5)]\n",
    "lst1"
   ]
  },
  {
   "cell_type": "code",
   "execution_count": 44,
   "id": "953f1014",
   "metadata": {},
   "outputs": [
    {
     "data": {
      "text/plain": [
       "['x', 'y', 'z', 'xx', 'yy', 'zz', 'xxx', 'yyy', 'zzz', 'xxxx', 'yyyy', 'zzzz']"
      ]
     },
     "execution_count": 44,
     "metadata": {},
     "output_type": "execute_result"
    }
   ],
   "source": [
    "l2 = ['x', 'y', 'z']\n",
    "lst2 = [i*j for j in range(1, 5) for i in l2]\n",
    "lst2"
   ]
  },
  {
   "cell_type": "code",
   "execution_count": 55,
   "id": "ece8d24c",
   "metadata": {},
   "outputs": [
    {
     "name": "stdout",
     "output_type": "stream",
     "text": [
      "[[2], [3], [4], [3], [4], [5], [4], [5], [6]] [[2, 3, 4, 5], [3, 4, 5, 6], [4, 5, 6, 7], [5, 6, 7, 8]]\n"
     ]
    }
   ],
   "source": [
    "lst3 = [[x + y] for y in range(3) for x in range(2, 5)]\n",
    "lst4 = [[a+b for b in range(2, 6)] for a in range(4)]\n",
    "print(lst3,lst4)\n"
   ]
  },
  {
   "cell_type": "code",
   "execution_count": 64,
   "id": "24d459b2",
   "metadata": {},
   "outputs": [
    {
     "data": {
      "text/plain": [
       "[(1, 1), (2, 1), (3, 1), (1, 2), (2, 2), (3, 2), (1, 3), (2, 3), (3, 3)]"
      ]
     },
     "execution_count": 64,
     "metadata": {},
     "output_type": "execute_result"
    }
   ],
   "source": [
    "lst5 = [(p, q) for q in range(1, 4) for p in range(1, 4)]\n",
    "lst5"
   ]
  }
 ],
 "metadata": {
  "kernelspec": {
   "display_name": "Python 3",
   "language": "python",
   "name": "python3"
  },
  "language_info": {
   "codemirror_mode": {
    "name": "ipython",
    "version": 3
   },
   "file_extension": ".py",
   "mimetype": "text/x-python",
   "name": "python",
   "nbconvert_exporter": "python",
   "pygments_lexer": "ipython3",
   "version": "3.8.8"
  }
 },
 "nbformat": 4,
 "nbformat_minor": 5
}
